{
 "cells": [
  {
   "cell_type": "code",
   "execution_count": 8,
   "metadata": {
    "ExecuteTime": {
     "end_time": "2019-04-02T04:34:27.181087Z",
     "start_time": "2019-04-02T04:34:27.177605Z"
    }
   },
   "outputs": [],
   "source": [
    "import os\n",
    "import shutil\n",
    "import cv2\n",
    "import glob\n",
    "from tqdm import tqdm"
   ]
  },
  {
   "cell_type": "code",
   "execution_count": 9,
   "metadata": {
    "ExecuteTime": {
     "end_time": "2019-04-02T04:34:27.926640Z",
     "start_time": "2019-04-02T04:34:27.923369Z"
    }
   },
   "outputs": [],
   "source": [
    "dataset_path = '/Users/lamhoangtung/Downloads/train/'"
   ]
  },
  {
   "cell_type": "code",
   "execution_count": 10,
   "metadata": {
    "ExecuteTime": {
     "end_time": "2019-04-02T04:34:28.728412Z",
     "start_time": "2019-04-02T04:34:28.722132Z"
    }
   },
   "outputs": [
    {
     "data": {
      "text/plain": [
       "['right', '.DS_Store', 'center', 'left']"
      ]
     },
     "execution_count": 10,
     "metadata": {},
     "output_type": "execute_result"
    }
   ],
   "source": [
    "os.listdir(dataset_path)"
   ]
  },
  {
   "cell_type": "code",
   "execution_count": 11,
   "metadata": {
    "ExecuteTime": {
     "end_time": "2019-04-02T04:34:30.374977Z",
     "start_time": "2019-04-02T04:34:30.368633Z"
    }
   },
   "outputs": [],
   "source": [
    "def augment_upsampling(src, dst):\n",
    "    for each_file in tqdm(glob.glob(os.path.join(dataset_path, src, '*.jpg'))):\n",
    "        if '_flipped.jpg' not in each_file:\n",
    "            org_img = cv2.imread(each_file)\n",
    "            new_img = cv2.flip(org_img, 1)\n",
    "            new_path = each_file.replace(src, dst)\n",
    "            new_path = new_path.replace('.jpg', '_flipped.jpg')\n",
    "            cv2.imwrite(new_path, new_img)"
   ]
  },
  {
   "cell_type": "code",
   "execution_count": 12,
   "metadata": {
    "ExecuteTime": {
     "end_time": "2019-04-02T04:37:40.391105Z",
     "start_time": "2019-04-02T04:34:31.479605Z"
    }
   },
   "outputs": [
    {
     "name": "stderr",
     "output_type": "stream",
     "text": [
      "100%|██████████| 3565/3565 [00:48<00:00, 73.28it/s]\n",
      "100%|██████████| 13592/13592 [02:20<00:00, 96.99it/s]\n"
     ]
    }
   ],
   "source": [
    "augment_upsampling('left','right')\n",
    "augment_upsampling('right','left')"
   ]
  }
 ],
 "metadata": {
  "kernelspec": {
   "display_name": "Python 3",
   "language": "python",
   "name": "python3"
  },
  "language_info": {
   "codemirror_mode": {
    "name": "ipython",
    "version": 3
   },
   "file_extension": ".py",
   "mimetype": "text/x-python",
   "name": "python",
   "nbconvert_exporter": "python",
   "pygments_lexer": "ipython3",
   "version": "3.6.7"
  },
  "toc": {
   "base_numbering": 1,
   "nav_menu": {},
   "number_sections": true,
   "sideBar": true,
   "skip_h1_title": false,
   "title_cell": "Table of Contents",
   "title_sidebar": "Contents",
   "toc_cell": false,
   "toc_position": {},
   "toc_section_display": true,
   "toc_window_display": false
  },
  "varInspector": {
   "cols": {
    "lenName": 16,
    "lenType": 16,
    "lenVar": 40
   },
   "kernels_config": {
    "python": {
     "delete_cmd_postfix": "",
     "delete_cmd_prefix": "del ",
     "library": "var_list.py",
     "varRefreshCmd": "print(var_dic_list())"
    },
    "r": {
     "delete_cmd_postfix": ") ",
     "delete_cmd_prefix": "rm(",
     "library": "var_list.r",
     "varRefreshCmd": "cat(var_dic_list()) "
    }
   },
   "types_to_exclude": [
    "module",
    "function",
    "builtin_function_or_method",
    "instance",
    "_Feature"
   ],
   "window_display": false
  }
 },
 "nbformat": 4,
 "nbformat_minor": 2
}
