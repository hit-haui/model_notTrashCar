{
 "cells": [
  {
   "cell_type": "code",
   "execution_count": 1,
   "metadata": {
    "ExecuteTime": {
     "end_time": "2019-03-31T17:52:29.120081Z",
     "start_time": "2019-03-31T17:52:29.116972Z"
    }
   },
   "outputs": [],
   "source": [
    "import os\n",
    "import shutil\n",
    "import glob"
   ]
  },
  {
   "cell_type": "code",
   "execution_count": 2,
   "metadata": {
    "ExecuteTime": {
     "end_time": "2019-03-31T17:53:20.846498Z",
     "start_time": "2019-03-31T17:53:20.830042Z"
    }
   },
   "outputs": [
    {
     "data": {
      "text/plain": [
       "3"
      ]
     },
     "execution_count": 2,
     "metadata": {},
     "output_type": "execute_result"
    }
   ],
   "source": [
    "def count_bottom_slash(full_path):\n",
    "    file_name = full_path.split('/')[-1]\n",
    "    count = 0\n",
    "    for each_char in file_name:\n",
    "        if each_char == '_':\n",
    "            count += 1\n",
    "    return count\n",
    "\n",
    "# Test\n",
    "count_bottom_slash('/Users/lamhoangtung/cds_data/final/dataset_1552908818.1053503/rgb/336_rgb_0_dup.jpg')"
   ]
  },
  {
   "cell_type": "code",
   "execution_count": 5,
   "metadata": {
    "ExecuteTime": {
     "end_time": "2019-03-31T17:55:50.958083Z",
     "start_time": "2019-03-31T17:55:50.951249Z"
    }
   },
   "outputs": [
    {
     "data": {
      "text/plain": [
       "['/Users/lamhoangtung/cds_data/final/dataset_1552726684.7314272',\n",
       " '/Users/lamhoangtung/cds_data/final/dataset_1552893444.0379438',\n",
       " '/Users/lamhoangtung/cds_data/final/dataset_1455210452.6580088',\n",
       " '/Users/lamhoangtung/cds_data/final/dataset_1552726873.2929227',\n",
       " '/Users/lamhoangtung/cds_data/final/dataset_1552893092.3855538',\n",
       " '/Users/lamhoangtung/cds_data/final/dataset_1552904720.5283732',\n",
       " '/Users/lamhoangtung/cds_data/final/dataset_1552894058.7716582',\n",
       " '/Users/lamhoangtung/cds_data/final/dataset_1552908818.1053503',\n",
       " '/Users/lamhoangtung/cds_data/final/dataset_1552725986.390561',\n",
       " '/Users/lamhoangtung/cds_data/final/dataset_1455210899.4621093',\n",
       " '/Users/lamhoangtung/cds_data/final/dataset_1552905198.0054271',\n",
       " '/Users/lamhoangtung/cds_data/final/dataset_1552909194.23289',\n",
       " '/Users/lamhoangtung/cds_data/final/dataset_1552904824.0729823',\n",
       " '/Users/lamhoangtung/cds_data/final/dataset_1552904757.9765217',\n",
       " '/Users/lamhoangtung/cds_data/final/dataset_1552905154.5183923',\n",
       " '/Users/lamhoangtung/cds_data/final/dataset_1552893212.40345',\n",
       " '/Users/lamhoangtung/cds_data/final/dataset_1552904345.1679335',\n",
       " '/Users/lamhoangtung/cds_data/final/dataset_1552904382.8550458',\n",
       " '/Users/lamhoangtung/cds_data/final/dataset_1552893506.3816152',\n",
       " '/Users/lamhoangtung/cds_data/final/dataset_1552909030.380355',\n",
       " '/Users/lamhoangtung/cds_data/final/dataset_1552905227.62926',\n",
       " '/Users/lamhoangtung/cds_data/final/dataset_1552905319.2782507',\n",
       " '/Users/lamhoangtung/cds_data/final/dataset_1552894094.2806165',\n",
       " '/Users/lamhoangtung/cds_data/final/dataset_1552909084.5141757',\n",
       " '/Users/lamhoangtung/cds_data/final/dataset_1552725569.1256902',\n",
       " '/Users/lamhoangtung/cds_data/final/dataset_1552891261.8231232',\n",
       " '/Users/lamhoangtung/cds_data/final/dataset_1552905273.370496',\n",
       " '/Users/lamhoangtung/cds_data/final/dataset_1552893475.3107293',\n",
       " '/Users/lamhoangtung/cds_data/final/dataset_1552726075.779513',\n",
       " '/Users/lamhoangtung/cds_data/final/dataset_1552904467.1164613',\n",
       " '/Users/lamhoangtung/cds_data/final/dataset_1552908725.7250445',\n",
       " '/Users/lamhoangtung/cds_data/final/dataset_1552908771.5731988',\n",
       " '/Users/lamhoangtung/cds_data/final/dataset_1552905098.5441136',\n",
       " '/Users/lamhoangtung/cds_data/final/dataset_1552726399.9232934',\n",
       " '/Users/lamhoangtung/cds_data/final/dataset_1552726594.6847703',\n",
       " '/Users/lamhoangtung/cds_data/final/dataset_1552893038.9554684',\n",
       " '/Users/lamhoangtung/cds_data/final/dataset_1552905005.4995859',\n",
       " '/Users/lamhoangtung/cds_data/final/dataset_1552904556.2951062',\n",
       " '/Users/lamhoangtung/cds_data/final/dataset_1552893174.2713633',\n",
       " '/Users/lamhoangtung/cds_data/final/dataset_1552891166.635466',\n",
       " '/Users/lamhoangtung/cds_data/final/dataset_1552725679.6475658',\n",
       " '/Users/lamhoangtung/cds_data/final/dataset_1552904309.0916402',\n",
       " '/Users/lamhoangtung/cds_data/final/dataset_1552909246.3721597',\n",
       " '/Users/lamhoangtung/cds_data/final/dataset_1552891065.887813',\n",
       " '/Users/lamhoangtung/cds_data/final/dataset_1552725514.68842',\n",
       " '/Users/lamhoangtung/cds_data/final/dataset_1552905067.5400019',\n",
       " '/Users/lamhoangtung/cds_data/final/dataset_1552908858.6136544',\n",
       " '/Users/lamhoangtung/cds_data/final/dataset_1552893394.8302753',\n",
       " '/Users/lamhoangtung/cds_data/final/dataset_1552904652.2090204',\n",
       " '/Users/lamhoangtung/cds_data/final/dataset_1552893340.0929234',\n",
       " '/Users/lamhoangtung/cds_data/final/dataset_1552726302.0394285',\n",
       " '/Users/lamhoangtung/cds_data/final/dataset_1552891219.0741663',\n",
       " '/Users/lamhoangtung/cds_data/final/dataset_1552725741.1544847',\n",
       " '/Users/lamhoangtung/cds_data/final/dataset_1552893127.1369047',\n",
       " '/Users/lamhoangtung/cds_data/final/dataset_1552905504.8793242',\n",
       " '/Users/lamhoangtung/cds_data/final/dataset_1552726797.2178636',\n",
       " '/Users/lamhoangtung/cds_data/final/dataset_1552908676.3540018',\n",
       " '/Users/lamhoangtung/cds_data/final/dataset_1552891316.451635',\n",
       " '/Users/lamhoangtung/cds_data/final/dataset_1552904510.7877123']"
      ]
     },
     "execution_count": 5,
     "metadata": {},
     "output_type": "execute_result"
    }
   ],
   "source": [
    "data_path = '/Users/lamhoangtung/cds_data/final/'\n",
    "dataset_list = glob.glob(data_path+'dataset_*')\n",
    "dataset_list"
   ]
  },
  {
   "cell_type": "code",
   "execution_count": 8,
   "metadata": {
    "ExecuteTime": {
     "end_time": "2019-03-31T18:02:08.771297Z",
     "start_time": "2019-03-31T18:02:04.409388Z"
    }
   },
   "outputs": [
    {
     "name": "stdout",
     "output_type": "stream",
     "text": [
      "Removed 20959 RGB images and 7594 depth images.\n"
     ]
    }
   ],
   "source": [
    "count_rgb = 0\n",
    "count_depth = 0\n",
    "for each_dataset in dataset_list:\n",
    "    # Clean RGB\n",
    "    for each_file in glob.glob(os.path.join(each_dataset, 'rgb', '*.jpg')):\n",
    "        if count_bottom_slash(each_file) >= 2:\n",
    "            os.remove(each_file)\n",
    "            count_rgb += 1\n",
    "    # Clean depth\n",
    "    for each_file in glob.glob(os.path.join(each_dataset, 'depth', '*.jpg')):\n",
    "        if count_bottom_slash(each_file) >= 2:\n",
    "            os.remove(each_file)\n",
    "            count_depth += 1\n",
    "print('Removed', count_rgb, 'RGB images and', count_depth, 'depth images.')"
   ]
  }
 ],
 "metadata": {
  "kernelspec": {
   "display_name": "Python 3",
   "language": "python",
   "name": "python3"
  },
  "language_info": {
   "codemirror_mode": {
    "name": "ipython",
    "version": 3
   },
   "file_extension": ".py",
   "mimetype": "text/x-python",
   "name": "python",
   "nbconvert_exporter": "python",
   "pygments_lexer": "ipython3",
   "version": "3.6.7"
  },
  "toc": {
   "base_numbering": 1,
   "nav_menu": {},
   "number_sections": true,
   "sideBar": true,
   "skip_h1_title": false,
   "title_cell": "Table of Contents",
   "title_sidebar": "Contents",
   "toc_cell": false,
   "toc_position": {},
   "toc_section_display": true,
   "toc_window_display": false
  },
  "varInspector": {
   "cols": {
    "lenName": 16,
    "lenType": 16,
    "lenVar": 40
   },
   "kernels_config": {
    "python": {
     "delete_cmd_postfix": "",
     "delete_cmd_prefix": "del ",
     "library": "var_list.py",
     "varRefreshCmd": "print(var_dic_list())"
    },
    "r": {
     "delete_cmd_postfix": ") ",
     "delete_cmd_prefix": "rm(",
     "library": "var_list.r",
     "varRefreshCmd": "cat(var_dic_list()) "
    }
   },
   "types_to_exclude": [
    "module",
    "function",
    "builtin_function_or_method",
    "instance",
    "_Feature"
   ],
   "window_display": false
  }
 },
 "nbformat": 4,
 "nbformat_minor": 2
}
