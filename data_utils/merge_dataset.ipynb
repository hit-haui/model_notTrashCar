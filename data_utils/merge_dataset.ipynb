{
 "cells": [
  {
   "cell_type": "code",
   "execution_count": 2,
   "metadata": {
    "ExecuteTime": {
     "end_time": "2019-03-31T18:05:48.522933Z",
     "start_time": "2019-03-31T18:05:48.510138Z"
    }
   },
   "outputs": [],
   "source": [
    "import json\n",
    "import os\n",
    "import glob\n",
    "from tqdm import tqdm"
   ]
  },
  {
   "cell_type": "code",
   "execution_count": 3,
   "metadata": {
    "ExecuteTime": {
     "end_time": "2019-03-31T18:05:49.390198Z",
     "start_time": "2019-03-31T18:05:49.374937Z"
    }
   },
   "outputs": [
    {
     "data": {
      "text/plain": [
       "['/Users/lamhoangtung/cds_data/final/dataset_1552726684.7314272',\n",
       " '/Users/lamhoangtung/cds_data/final/dataset_1552893444.0379438',\n",
       " '/Users/lamhoangtung/cds_data/final/dataset_1455210452.6580088',\n",
       " '/Users/lamhoangtung/cds_data/final/dataset_1552726873.2929227',\n",
       " '/Users/lamhoangtung/cds_data/final/dataset_1552893092.3855538',\n",
       " '/Users/lamhoangtung/cds_data/final/dataset_1552904720.5283732',\n",
       " '/Users/lamhoangtung/cds_data/final/dataset_1552894058.7716582',\n",
       " '/Users/lamhoangtung/cds_data/final/dataset_1552908818.1053503',\n",
       " '/Users/lamhoangtung/cds_data/final/dataset_1552725986.390561',\n",
       " '/Users/lamhoangtung/cds_data/final/dataset_1455210899.4621093',\n",
       " '/Users/lamhoangtung/cds_data/final/dataset_1552905198.0054271',\n",
       " '/Users/lamhoangtung/cds_data/final/dataset_1552909194.23289',\n",
       " '/Users/lamhoangtung/cds_data/final/dataset_1552904824.0729823',\n",
       " '/Users/lamhoangtung/cds_data/final/dataset_1552904757.9765217',\n",
       " '/Users/lamhoangtung/cds_data/final/dataset_1552905154.5183923',\n",
       " '/Users/lamhoangtung/cds_data/final/dataset_1552893212.40345',\n",
       " '/Users/lamhoangtung/cds_data/final/dataset_1552904345.1679335',\n",
       " '/Users/lamhoangtung/cds_data/final/dataset_1552904382.8550458',\n",
       " '/Users/lamhoangtung/cds_data/final/dataset_1552893506.3816152',\n",
       " '/Users/lamhoangtung/cds_data/final/dataset_1552909030.380355',\n",
       " '/Users/lamhoangtung/cds_data/final/dataset_1552905227.62926',\n",
       " '/Users/lamhoangtung/cds_data/final/dataset_1552905319.2782507',\n",
       " '/Users/lamhoangtung/cds_data/final/dataset_1552894094.2806165',\n",
       " '/Users/lamhoangtung/cds_data/final/dataset_1552909084.5141757',\n",
       " '/Users/lamhoangtung/cds_data/final/dataset_1552725569.1256902',\n",
       " '/Users/lamhoangtung/cds_data/final/dataset_1552891261.8231232',\n",
       " '/Users/lamhoangtung/cds_data/final/dataset_1552905273.370496',\n",
       " '/Users/lamhoangtung/cds_data/final/dataset_1552893475.3107293',\n",
       " '/Users/lamhoangtung/cds_data/final/dataset_1552726075.779513',\n",
       " '/Users/lamhoangtung/cds_data/final/dataset_1552904467.1164613',\n",
       " '/Users/lamhoangtung/cds_data/final/dataset_1552908725.7250445',\n",
       " '/Users/lamhoangtung/cds_data/final/dataset_1552908771.5731988',\n",
       " '/Users/lamhoangtung/cds_data/final/dataset_1552905098.5441136',\n",
       " '/Users/lamhoangtung/cds_data/final/dataset_1552726399.9232934',\n",
       " '/Users/lamhoangtung/cds_data/final/dataset_1552726594.6847703',\n",
       " '/Users/lamhoangtung/cds_data/final/dataset_1552893038.9554684',\n",
       " '/Users/lamhoangtung/cds_data/final/dataset_1552905005.4995859',\n",
       " '/Users/lamhoangtung/cds_data/final/dataset_1552904556.2951062',\n",
       " '/Users/lamhoangtung/cds_data/final/dataset_1552893174.2713633',\n",
       " '/Users/lamhoangtung/cds_data/final/dataset_1552891166.635466',\n",
       " '/Users/lamhoangtung/cds_data/final/dataset_1552725679.6475658',\n",
       " '/Users/lamhoangtung/cds_data/final/dataset_1552904309.0916402',\n",
       " '/Users/lamhoangtung/cds_data/final/dataset_1552909246.3721597',\n",
       " '/Users/lamhoangtung/cds_data/final/dataset_1552891065.887813',\n",
       " '/Users/lamhoangtung/cds_data/final/dataset_1552725514.68842',\n",
       " '/Users/lamhoangtung/cds_data/final/dataset_1552905067.5400019',\n",
       " '/Users/lamhoangtung/cds_data/final/dataset_1552908858.6136544',\n",
       " '/Users/lamhoangtung/cds_data/final/dataset_1552893394.8302753',\n",
       " '/Users/lamhoangtung/cds_data/final/dataset_1552904652.2090204',\n",
       " '/Users/lamhoangtung/cds_data/final/dataset_1552893340.0929234',\n",
       " '/Users/lamhoangtung/cds_data/final/dataset_1552726302.0394285',\n",
       " '/Users/lamhoangtung/cds_data/final/dataset_1552891219.0741663',\n",
       " '/Users/lamhoangtung/cds_data/final/dataset_1552725741.1544847',\n",
       " '/Users/lamhoangtung/cds_data/final/dataset_1552893127.1369047',\n",
       " '/Users/lamhoangtung/cds_data/final/dataset_1552905504.8793242',\n",
       " '/Users/lamhoangtung/cds_data/final/dataset_1552726797.2178636',\n",
       " '/Users/lamhoangtung/cds_data/final/dataset_1552908676.3540018',\n",
       " '/Users/lamhoangtung/cds_data/final/dataset_1552891316.451635',\n",
       " '/Users/lamhoangtung/cds_data/final/dataset_1552904510.7877123']"
      ]
     },
     "execution_count": 3,
     "metadata": {},
     "output_type": "execute_result"
    }
   ],
   "source": [
    "dataset_path = '/Users/lamhoangtung/cds_data/final/'\n",
    "datasets = glob.glob(dataset_path+'dataset*')\n",
    "datasets"
   ]
  },
  {
   "cell_type": "code",
   "execution_count": 4,
   "metadata": {},
   "outputs": [
    {
     "name": "stderr",
     "output_type": "stream",
     "text": [
      "100%|██████████| 59/59 [00:00<00:00, 55.84it/s]\n"
     ]
    }
   ],
   "source": [
    "combined_dataset = []\n",
    "for each_dataset in tqdm(datasets):\n",
    "    json_file = os.path.join(each_dataset,'label.json')\n",
    "    labels = json.loads(open(json_file,'r').read())\n",
    "    for each_sample in labels:\n",
    "        each_sample['rgb_img_path'] = each_sample['rgb_img_path'].replace('/home/nvidia/Desktop/','/home/linus/Desktop/data/')\n",
    "        each_sample['depth_img_path'] = each_sample['depth_img_path'].replace('/home/nvidia/Desktop','/home/linus/Desktop/data/')\n",
    "        combined_dataset.append(each_sample)"
   ]
  },
  {
   "cell_type": "code",
   "execution_count": 5,
   "metadata": {},
   "outputs": [],
   "source": [
    "with open(os.path.join(dataset_path, 'combined.json'), 'w', encoding='utf-8') as outfile:\n",
    "    json.dump(combined_dataset, outfile, ensure_ascii=False, sort_keys=False, indent=4)\n",
    "    outfile.write(\"\\n\")"
   ]
  },
  {
   "cell_type": "code",
   "execution_count": 6,
   "metadata": {},
   "outputs": [
    {
     "data": {
      "text/plain": [
       "31769"
      ]
     },
     "execution_count": 6,
     "metadata": {},
     "output_type": "execute_result"
    }
   ],
   "source": [
    "len(combined_dataset)"
   ]
  },
  {
   "cell_type": "code",
   "execution_count": null,
   "metadata": {},
   "outputs": [],
   "source": []
  }
 ],
 "metadata": {
  "kernelspec": {
   "display_name": "Python 3",
   "language": "python",
   "name": "python3"
  },
  "language_info": {
   "codemirror_mode": {
    "name": "ipython",
    "version": 3
   },
   "file_extension": ".py",
   "mimetype": "text/x-python",
   "name": "python",
   "nbconvert_exporter": "python",
   "pygments_lexer": "ipython3",
   "version": "3.6.7"
  },
  "toc": {
   "base_numbering": 1,
   "nav_menu": {},
   "number_sections": true,
   "sideBar": true,
   "skip_h1_title": false,
   "title_cell": "Table of Contents",
   "title_sidebar": "Contents",
   "toc_cell": false,
   "toc_position": {},
   "toc_section_display": true,
   "toc_window_display": false
  },
  "varInspector": {
   "cols": {
    "lenName": 16,
    "lenType": 16,
    "lenVar": 40
   },
   "kernels_config": {
    "python": {
     "delete_cmd_postfix": "",
     "delete_cmd_prefix": "del ",
     "library": "var_list.py",
     "varRefreshCmd": "print(var_dic_list())"
    },
    "r": {
     "delete_cmd_postfix": ") ",
     "delete_cmd_prefix": "rm(",
     "library": "var_list.r",
     "varRefreshCmd": "cat(var_dic_list()) "
    }
   },
   "types_to_exclude": [
    "module",
    "function",
    "builtin_function_or_method",
    "instance",
    "_Feature"
   ],
   "window_display": false
  }
 },
 "nbformat": 4,
 "nbformat_minor": 2
}
