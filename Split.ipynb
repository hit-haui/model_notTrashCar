{
 "cells": [
  {
   "cell_type": "code",
   "execution_count": 8,
   "metadata": {},
   "outputs": [],
   "source": [
    "import json\n",
    "import os\n",
    "import cv2\n",
    "import numpy as np\n",
    "import matplotlib.pyplot as plt\n",
    "from tqdm import tqdm"
   ]
  },
  {
   "cell_type": "code",
   "execution_count": 9,
   "metadata": {},
   "outputs": [],
   "source": [
    "dataset_path = '/home/vicker/Downloads/data/'"
   ]
  },
  {
   "cell_type": "markdown",
   "metadata": {},
   "source": [
    "json của data không augument"
   ]
  },
  {
   "cell_type": "code",
   "execution_count": 26,
   "metadata": {},
   "outputs": [
    {
     "name": "stdout",
     "output_type": "stream",
     "text": [
      "Numbers of sample: 5587\n",
      "144\n"
     ]
    }
   ],
   "source": [
    "labels_file = json.loads(open(os.path.join(dataset_path, 'key_data.json'),'r').read())\n",
    "print('Numbers of sample:', len(labels_file))\n",
    "len_test = int(len(labels_file)/10)\n",
    "len_test\n",
    "print(center_test)"
   ]
  },
  {
   "cell_type": "code",
   "execution_count": 29,
   "metadata": {},
   "outputs": [
    {
     "name": "stderr",
     "output_type": "stream",
     "text": [
      "Creating full path: 100%|██████████| 5587/5587 [00:00<00:00, 1277660.78it/s]"
     ]
    },
    {
     "name": "stdout",
     "output_type": "stream",
     "text": [
      "1757 2885 945\n"
     ]
    },
    {
     "name": "stderr",
     "output_type": "stream",
     "text": [
      "\n"
     ]
    },
    {
     "data": {
      "text/plain": [
       "144"
      ]
     },
     "execution_count": 29,
     "metadata": {},
     "output_type": "execute_result"
    }
   ],
   "source": [
    "left = 0\n",
    "right =0\n",
    "center = 0\n",
    "for index, each_sample in tqdm(enumerate(labels_file), desc='Creating full path', total=len(labels_file)):\n",
    "    if each_sample['angle'] < 0 :\n",
    "        left +=1\n",
    "    if each_sample['angle'] > 0 :\n",
    "        right +=1\n",
    "    if each_sample['angle'] == 0:\n",
    "        center +=1\n",
    "print(left,center,right)\n",
    "minium = min(left,min(center,right))\n",
    "maxium = min(left,min(center,right))\n",
    "if left > minium and left < maxium:\n",
    "    mid = left\n",
    "elif center > minium and center != maxium:\n",
    "    mid = center\n",
    "elif right > minium and right != maxium:\n",
    "    mid = right\n",
    "\n",
    "test_sample = 0\n",
    "if int(minium/2) > int(mid*0.05):\n",
    "    test_sample = int(mid*0.05)\n",
    "else:\n",
    "    test_sample = int(minium/2)\n",
    "left_test = test_sample\n",
    "center_test = test_sample\n",
    "right_test = test_sample\n",
    "test_sample"
   ]
  },
  {
   "cell_type": "code",
   "execution_count": 4,
   "metadata": {},
   "outputs": [
    {
     "name": "stderr",
     "output_type": "stream",
     "text": [
      "Creating full path:  90%|█████████ | 7197/7996 [00:00<00:00, 222014.37it/s]\n"
     ]
    }
   ],
   "source": [
    "test_list = []\n",
    "for index, each_sample in tqdm(enumerate(labels_file), desc='Creating full path', total=len(labels_file)):\n",
    "        if lef_test > 0 and each_sample['angle']  < 0 :\n",
    "            new_sample = {\n",
    "                    'index': each_sample['index'],\n",
    "                    'rgb_img_path': each_sample['rgb_img_path'],\n",
    "                    'depth_img_path': each_sample['depth_img_path'],\n",
    "                    'angle': each_sample['angle'],\n",
    "                    'speed': each_sample['speed']\n",
    "                }\n",
    "            lef_test-=1\n",
    "            test_list.append(new_sample)\n",
    "            labels_file.remove(each_sample)\n",
    "        if right_test > 0 and each_sample['angle']  > 0 :\n",
    "            new_sample = {\n",
    "                    'index': each_sample['index'],\n",
    "                    'rgb_img_path':  each_sample['rgb_img_path'],\n",
    "                    'depth_img_path': each_sample['depth_img_path'],\n",
    "                    'angle': each_sample['angle'],\n",
    "                    'speed': each_sample['speed']\n",
    "                }\n",
    "            right_test-=1\n",
    "            test_list.append(new_sample)\n",
    "            labels_file.remove(each_sample)\n",
    "            \n",
    "        if center_test > 0 and each_sample['angle']  == 0 :\n",
    "            new_sample = {\n",
    "                    'index': each_sample['index'],\n",
    "                    'rgb_img_path':  each_sample['rgb_img_path'],\n",
    "                    'depth_img_path': each_sample['depth_img_path'],\n",
    "                    'angle': each_sample['angle'],\n",
    "                    'speed': each_sample['speed']\n",
    "                }\n",
    "            center_test-=1\n",
    "            test_list.append(new_sample)\n",
    "            labels_file.remove(each_sample)"
   ]
  },
  {
   "cell_type": "code",
   "execution_count": 5,
   "metadata": {},
   "outputs": [
    {
     "name": "stdout",
     "output_type": "stream",
     "text": [
      "7197\n",
      "799\n"
     ]
    }
   ],
   "source": [
    "print(len(labels_file))\n",
    "print(len(test_list))"
   ]
  },
  {
   "cell_type": "code",
   "execution_count": 6,
   "metadata": {},
   "outputs": [],
   "source": [
    "with open(os.path.join(dataset_path, 'test.json'), 'w', encoding='utf-8') as outfile:\n",
    "    json.dump(test_list, outfile, ensure_ascii=False, sort_keys=False, indent=4)\n",
    "    outfile.write(\"\\n\")\n"
   ]
  }
 ],
 "metadata": {
  "kernelspec": {
   "display_name": "Python 3",
   "language": "python",
   "name": "python3"
  },
  "language_info": {
   "codemirror_mode": {
    "name": "ipython",
    "version": 3
   },
   "file_extension": ".py",
   "mimetype": "text/x-python",
   "name": "python",
   "nbconvert_exporter": "python",
   "pygments_lexer": "ipython3",
   "version": "3.6.7"
  }
 },
 "nbformat": 4,
 "nbformat_minor": 2
}
