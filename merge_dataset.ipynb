{
 "cells": [
  {
   "cell_type": "code",
   "execution_count": 21,
   "metadata": {},
   "outputs": [],
   "source": [
    "import json\n",
    "import os\n",
    "import glob\n",
    "from tqdm import tqdm"
   ]
  },
  {
   "cell_type": "code",
   "execution_count": 22,
   "metadata": {},
   "outputs": [
    {
     "data": {
      "text/plain": [
       "['/home/linus/Desktop/data/dataset_1552725569.1256902',\n",
       " '/home/linus/Desktop/data/dataset_1552725679.6475658',\n",
       " '/home/linus/Desktop/data/dataset_1552725149.9200957',\n",
       " '/home/linus/Desktop/data/dataset_1552726827.7066724',\n",
       " '/home/linus/Desktop/data/dataset_1552726780.1800869',\n",
       " '/home/linus/Desktop/data/dataset_1552726684.7314272',\n",
       " '/home/linus/Desktop/data/dataset_1552726630.7896714',\n",
       " '/home/linus/Desktop/data/dataset_1552726075.779513',\n",
       " '/home/linus/Desktop/data/dataset_1552726594.6847703',\n",
       " '/home/linus/Desktop/data/dataset_1552726873.2929227',\n",
       " '/home/linus/Desktop/data/dataset_1552726797.2178636',\n",
       " '/home/linus/Desktop/data/dataset_1552725741.1544847',\n",
       " '/home/linus/Desktop/data/dataset_1552725514.68842',\n",
       " '/home/linus/Desktop/data/dataset_1552725986.390561',\n",
       " '/home/linus/Desktop/data/dataset_1552726399.9232934',\n",
       " '/home/linus/Desktop/data/dataset_1552726302.0394285']"
      ]
     },
     "execution_count": 22,
     "metadata": {},
     "output_type": "execute_result"
    }
   ],
   "source": [
    "dataset_path = '/home/linus/Desktop/data/'\n",
    "datasets = glob.glob(dataset_path+'dataset*')\n",
    "datasets"
   ]
  },
  {
   "cell_type": "code",
   "execution_count": 23,
   "metadata": {},
   "outputs": [
    {
     "name": "stderr",
     "output_type": "stream",
     "text": [
      "100%|██████████| 16/16 [00:00<00:00, 294.15it/s]\n"
     ]
    }
   ],
   "source": [
    "combined_dataset = []\n",
    "for each_dataset in tqdm(datasets):\n",
    "    json_file = os.path.join(each_dataset,'label.json')\n",
    "    labels = json.loads(open(json_file,'r').read())\n",
    "    for each_sample in labels:\n",
    "        each_sample['rgb_img_path'] = each_sample['rgb_img_path'].replace('/home/nvidia/Desktop/','/home/linus/Desktop/data/')\n",
    "        each_sample['depth_img_path'] = each_sample['depth_img_path'].replace('/home/nvidia/Desktop','/home/linus/Desktop/data/')\n",
    "        combined_dataset.append(each_sample)"
   ]
  },
  {
   "cell_type": "code",
   "execution_count": 24,
   "metadata": {},
   "outputs": [],
   "source": [
    "with open(os.path.join(dataset_path, 'combined.json'), 'w', encoding='utf-8') as outfile:\n",
    "    json.dump(combined_dataset, outfile, ensure_ascii=False, sort_keys=False, indent=4)\n",
    "    outfile.write(\"\\n\")"
   ]
  },
  {
   "cell_type": "code",
   "execution_count": 25,
   "metadata": {},
   "outputs": [
    {
     "data": {
      "text/plain": [
       "13953"
      ]
     },
     "execution_count": 25,
     "metadata": {},
     "output_type": "execute_result"
    }
   ],
   "source": [
    "len(combined_dataset)"
   ]
  }
 ],
 "metadata": {
  "kernelspec": {
   "display_name": "Python 3",
   "language": "python",
   "name": "python3"
  },
  "language_info": {
   "codemirror_mode": {
    "name": "ipython",
    "version": 3
   },
   "file_extension": ".py",
   "mimetype": "text/x-python",
   "name": "python",
   "nbconvert_exporter": "python",
   "pygments_lexer": "ipython3",
   "version": "3.6.7"
  }
 },
 "nbformat": 4,
 "nbformat_minor": 2
}
